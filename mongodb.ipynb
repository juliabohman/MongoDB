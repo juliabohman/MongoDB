{
 "cells": [
  {
   "cell_type": "markdown",
   "metadata": {},
   "source": [
    "# MongoDB (October 2018)\n",
    "    "
   ]
  },
  {
   "cell_type": "code",
   "execution_count": 1,
   "metadata": {},
   "outputs": [],
   "source": [
    "import re\n",
    "import json\n",
    "from pymongo import MongoClient"
   ]
  },
  {
   "cell_type": "markdown",
   "metadata": {},
   "source": [
    "The file `trump.json` contains posts from http://www.twitter.com (tweets) over the course of an hour that have the key word \"trump\".\n",
    "Each line in the file is a single JSON message that can be loaded with `json.loads()`.\n",
    "\n",
    "We create a MongoDB database and initialize a collection in the database."
   ]
  },
  {
   "cell_type": "code",
   "execution_count": 14,
   "metadata": {},
   "outputs": [],
   "source": [
    "# Set up client\n",
    "client = MongoClient()\n",
    "db = client.db1\n",
    "col = db.collection1"
   ]
  },
  {
   "cell_type": "code",
   "execution_count": 15,
   "metadata": {},
   "outputs": [
    {
     "data": {
      "text/plain": [
       "<pymongo.results.DeleteResult at 0x2a10992c148>"
      ]
     },
     "execution_count": 15,
     "metadata": {},
     "output_type": "execute_result"
    }
   ],
   "source": [
    "# Clear existing elements in collection\n",
    "col.delete_many({})"
   ]
  },
  {
   "cell_type": "code",
   "execution_count": 16,
   "metadata": {},
   "outputs": [],
   "source": [
    "# Read in trump tweets\n",
    "with open('trump.json') as f:\n",
    "    for line in f:\n",
    "        col.insert_one(json.loads(line))"
   ]
  },
  {
   "cell_type": "code",
   "execution_count": 17,
   "metadata": {},
   "outputs": [
    {
     "name": "stderr",
     "output_type": "stream",
     "text": [
      "C:\\Users\\jbohm\\AppData\\Local\\Continuum\\anaconda3\\lib\\site-packages\\ipykernel_launcher.py:1: DeprecationWarning: count is deprecated. Use estimated_document_count or count_documents instead. Please note that $where must be replaced by $expr, $near must be replaced by $geoWithin with $center, and $nearSphere must be replaced by $geoWithin with $centerSphere\n",
      "  \"\"\"Entry point for launching an IPython kernel.\n"
     ]
    },
    {
     "data": {
      "text/plain": [
       "95643"
      ]
     },
     "execution_count": 17,
     "metadata": {},
     "output_type": "execute_result"
    }
   ],
   "source": [
    "# check number of columns\n",
    "col.count()"
   ]
  },
  {
   "cell_type": "markdown",
   "metadata": {},
   "source": [
    "The following code queries the Twitter collection for the listed information:\n",
    "- How many tweets include the word Russia?\n",
    "- How many tweets came from one of the main continental US time zones? (These are listed as `\"Central Time (US & Canada)\"`, `\"Pacific Time (US & Canada)\"`, `\"Eastern Time (US & Canada)\"`, and `\"Mountain Time (US & Canada)\"`.)\n",
    "- How often does each language occur? (To answer this, we will construct a dictionary with each language and it’s frequency count.)"
   ]
  },
  {
   "cell_type": "code",
   "execution_count": 20,
   "metadata": {},
   "outputs": [
    {
     "data": {
      "text/plain": [
       "{'_id': ObjectId('5bea09176fb853fb28a6bd5e'),\n",
       " 'created_at': 'Fri May 26 19:18:30 +0000 2017',\n",
       " 'id': 868184586844549121,\n",
       " 'id_str': '868184586844549121',\n",
       " 'text': 'RT @TruthFeedNews: LIBERAL SPIN: Democrats Are Saying That Losing in Montana is \"A Win\" https://t.co/t6QJFs0i4S #maga #trumptrain #trump',\n",
       " 'source': '<a href=\"http://twitter.com\" rel=\"nofollow\">Twitter Web Client</a>',\n",
       " 'truncated': False,\n",
       " 'in_reply_to_status_id': None,\n",
       " 'in_reply_to_status_id_str': None,\n",
       " 'in_reply_to_user_id': None,\n",
       " 'in_reply_to_user_id_str': None,\n",
       " 'in_reply_to_screen_name': None,\n",
       " 'user': {'id': 15619384,\n",
       "  'id_str': '15619384',\n",
       "  'name': 'gab.ai/Meowma',\n",
       "  'screen_name': 'Meowma',\n",
       "  'location': 'Hollywood, California',\n",
       "  'url': 'https://youtu.be/PkBxePSZ1ZI',\n",
       "  'description': 'Liberated #Hollywood entertainment industry artist and producer. Exposing #scumbags...especially #illuminati, #warmongers and #zionists. #CorruptionDisruption',\n",
       "  'protected': False,\n",
       "  'verified': False,\n",
       "  'followers_count': 5393,\n",
       "  'friends_count': 2551,\n",
       "  'listed_count': 148,\n",
       "  'favourites_count': 15622,\n",
       "  'statuses_count': 22216,\n",
       "  'created_at': 'Sun Jul 27 11:41:12 +0000 2008',\n",
       "  'utc_offset': -25200,\n",
       "  'time_zone': 'Pacific Time (US & Canada)',\n",
       "  'geo_enabled': False,\n",
       "  'lang': 'en',\n",
       "  'contributors_enabled': False,\n",
       "  'is_translator': False,\n",
       "  'profile_background_color': '333333',\n",
       "  'profile_background_image_url': 'http://pbs.twimg.com/profile_background_images/2941822/stars_background.png',\n",
       "  'profile_background_image_url_https': 'https://pbs.twimg.com/profile_background_images/2941822/stars_background.png',\n",
       "  'profile_background_tile': True,\n",
       "  'profile_link_color': '0000FF',\n",
       "  'profile_sidebar_border_color': '87BC44',\n",
       "  'profile_sidebar_fill_color': '94A6FF',\n",
       "  'profile_text_color': '666666',\n",
       "  'profile_use_background_image': True,\n",
       "  'profile_image_url': 'http://pbs.twimg.com/profile_images/803094514860756992/h0jdrPo3_normal.jpg',\n",
       "  'profile_image_url_https': 'https://pbs.twimg.com/profile_images/803094514860756992/h0jdrPo3_normal.jpg',\n",
       "  'profile_banner_url': 'https://pbs.twimg.com/profile_banners/15619384/1480107420',\n",
       "  'default_profile': False,\n",
       "  'default_profile_image': False,\n",
       "  'following': None,\n",
       "  'follow_request_sent': None,\n",
       "  'notifications': None},\n",
       " 'geo': None,\n",
       " 'coordinates': None,\n",
       " 'place': None,\n",
       " 'contributors': None,\n",
       " 'retweeted_status': {'created_at': 'Fri May 26 17:17:41 +0000 2017',\n",
       "  'id': 868154183190552576,\n",
       "  'id_str': '868154183190552576',\n",
       "  'text': 'LIBERAL SPIN: Democrats Are Saying That Losing in Montana is \"A Win\" https://t.co/t6QJFs0i4S #maga #trumptrain #trump',\n",
       "  'source': '<a href=\"http://twitter.com\" rel=\"nofollow\">Twitter Web Client</a>',\n",
       "  'truncated': False,\n",
       "  'in_reply_to_status_id': None,\n",
       "  'in_reply_to_status_id_str': None,\n",
       "  'in_reply_to_user_id': None,\n",
       "  'in_reply_to_user_id_str': None,\n",
       "  'in_reply_to_screen_name': None,\n",
       "  'user': {'id': 707278892801765377,\n",
       "   'id_str': '707278892801765377',\n",
       "   'name': 'TruthFeed News',\n",
       "   'screen_name': 'TruthFeedNews',\n",
       "   'location': None,\n",
       "   'url': 'http://truthfeed.com',\n",
       "   'description': 'Find us at https://truthfeed.com and on FB https://www.facebook.com/truthfeed',\n",
       "   'protected': False,\n",
       "   'verified': False,\n",
       "   'followers_count': 17444,\n",
       "   'friends_count': 16,\n",
       "   'listed_count': 223,\n",
       "   'favourites_count': 358,\n",
       "   'statuses_count': 12987,\n",
       "   'created_at': 'Tue Mar 08 18:56:43 +0000 2016',\n",
       "   'utc_offset': None,\n",
       "   'time_zone': None,\n",
       "   'geo_enabled': False,\n",
       "   'lang': 'en',\n",
       "   'contributors_enabled': False,\n",
       "   'is_translator': False,\n",
       "   'profile_background_color': '000000',\n",
       "   'profile_background_image_url': 'http://abs.twimg.com/images/themes/theme1/bg.png',\n",
       "   'profile_background_image_url_https': 'https://abs.twimg.com/images/themes/theme1/bg.png',\n",
       "   'profile_background_tile': False,\n",
       "   'profile_link_color': 'ABB8C2',\n",
       "   'profile_sidebar_border_color': '000000',\n",
       "   'profile_sidebar_fill_color': '000000',\n",
       "   'profile_text_color': '000000',\n",
       "   'profile_use_background_image': False,\n",
       "   'profile_image_url': 'http://pbs.twimg.com/profile_images/724552641766813696/FYuVNVh6_normal.jpg',\n",
       "   'profile_image_url_https': 'https://pbs.twimg.com/profile_images/724552641766813696/FYuVNVh6_normal.jpg',\n",
       "   'profile_banner_url': 'https://pbs.twimg.com/profile_banners/707278892801765377/1484913229',\n",
       "   'default_profile': False,\n",
       "   'default_profile_image': False,\n",
       "   'following': None,\n",
       "   'follow_request_sent': None,\n",
       "   'notifications': None},\n",
       "  'geo': None,\n",
       "  'coordinates': None,\n",
       "  'place': None,\n",
       "  'contributors': None,\n",
       "  'is_quote_status': False,\n",
       "  'retweet_count': 29,\n",
       "  'favorite_count': 25,\n",
       "  'entities': {'hashtags': [{'text': 'maga', 'indices': [93, 98]},\n",
       "    {'text': 'trumptrain', 'indices': [99, 110]},\n",
       "    {'text': 'trump', 'indices': [111, 117]}],\n",
       "   'urls': [{'url': 'https://t.co/t6QJFs0i4S',\n",
       "     'expanded_url': 'http://truthfeed.com/liberal-spin-democrats-are-saying-that-losing-in-montana-is-a-win/76338/',\n",
       "     'display_url': 'truthfeed.com/liberal-spin-d…',\n",
       "     'indices': [69, 92]}],\n",
       "   'user_mentions': [],\n",
       "   'symbols': []},\n",
       "  'favorited': False,\n",
       "  'retweeted': False,\n",
       "  'possibly_sensitive': False,\n",
       "  'filter_level': 'low',\n",
       "  'lang': 'en'},\n",
       " 'is_quote_status': False,\n",
       " 'retweet_count': 0,\n",
       " 'favorite_count': 0,\n",
       " 'entities': {'hashtags': [{'text': 'maga', 'indices': [112, 117]},\n",
       "   {'text': 'trumptrain', 'indices': [118, 129]},\n",
       "   {'text': 'trump', 'indices': [130, 136]}],\n",
       "  'urls': [{'url': 'https://t.co/t6QJFs0i4S',\n",
       "    'expanded_url': 'http://truthfeed.com/liberal-spin-democrats-are-saying-that-losing-in-montana-is-a-win/76338/',\n",
       "    'display_url': 'truthfeed.com/liberal-spin-d…',\n",
       "    'indices': [88, 111]}],\n",
       "  'user_mentions': [{'screen_name': 'TruthFeedNews',\n",
       "    'name': 'TruthFeed News',\n",
       "    'id': 707278892801765377,\n",
       "    'id_str': '707278892801765377',\n",
       "    'indices': [3, 17]}],\n",
       "  'symbols': []},\n",
       " 'favorited': False,\n",
       " 'retweeted': False,\n",
       " 'possibly_sensitive': False,\n",
       " 'filter_level': 'low',\n",
       " 'lang': 'en',\n",
       " 'timestamp_ms': '1495826310250'}"
      ]
     },
     "execution_count": 20,
     "metadata": {},
     "output_type": "execute_result"
    }
   ],
   "source": [
    "# Display example of an entry in the collection for reference\n",
    "col.find()[0]"
   ]
  },
  {
   "cell_type": "code",
   "execution_count": 21,
   "metadata": {},
   "outputs": [],
   "source": [
    "# Count number of times the word Russia shows up in the collection\n",
    "russia = col.find({\"text\":re.compile('Russia',re.IGNORECASE)})"
   ]
  },
  {
   "cell_type": "code",
   "execution_count": 22,
   "metadata": {},
   "outputs": [
    {
     "name": "stderr",
     "output_type": "stream",
     "text": [
      "C:\\Users\\jbohm\\AppData\\Local\\Continuum\\anaconda3\\lib\\site-packages\\ipykernel_launcher.py:1: DeprecationWarning: count is deprecated. Use Collection.count_documents instead.\n",
      "  \"\"\"Entry point for launching an IPython kernel.\n"
     ]
    },
    {
     "data": {
      "text/plain": [
       "5841"
      ]
     },
     "execution_count": 22,
     "metadata": {},
     "output_type": "execute_result"
    }
   ],
   "source": [
    "# Display the number for tweets with the word 'Russia'\n",
    "russia.count()"
   ]
  },
  {
   "cell_type": "code",
   "execution_count": 25,
   "metadata": {},
   "outputs": [],
   "source": [
    "# Define the different time zones\n",
    "zones = [\"Central Time (US & Canada)\", \"Pacific Time (US & Canada)\", \"Eastern Time (US & Canada)\", \"Mountain Time (US & Canada)\"]"
   ]
  },
  {
   "cell_type": "code",
   "execution_count": 31,
   "metadata": {},
   "outputs": [],
   "source": [
    "# Find number of tweets from each time zone\n",
    "timezone = col.find({\"user.time_zone\":{\"$in\":zones}})"
   ]
  },
  {
   "cell_type": "code",
   "execution_count": 32,
   "metadata": {},
   "outputs": [
    {
     "name": "stderr",
     "output_type": "stream",
     "text": [
      "C:\\Users\\jbohm\\AppData\\Local\\Continuum\\anaconda3\\lib\\site-packages\\ipykernel_launcher.py:1: DeprecationWarning: count is deprecated. Use Collection.count_documents instead.\n",
      "  \"\"\"Entry point for launching an IPython kernel.\n"
     ]
    },
    {
     "data": {
      "text/plain": [
       "33939"
      ]
     },
     "execution_count": 32,
     "metadata": {},
     "output_type": "execute_result"
    }
   ],
   "source": [
    "# Display number of tweets from each time zone\n",
    "timezone.count()"
   ]
  },
  {
   "cell_type": "code",
   "execution_count": 35,
   "metadata": {},
   "outputs": [],
   "source": [
    "# Get distinct languages\n",
    "langs = col.distinct(\"lang\")"
   ]
  },
  {
   "cell_type": "code",
   "execution_count": 37,
   "metadata": {},
   "outputs": [
    {
     "name": "stderr",
     "output_type": "stream",
     "text": [
      "C:\\Users\\jbohm\\AppData\\Local\\Continuum\\anaconda3\\lib\\site-packages\\ipykernel_launcher.py:1: DeprecationWarning: count is deprecated. Use Collection.count_documents instead.\n",
      "  \"\"\"Entry point for launching an IPython kernel.\n"
     ]
    }
   ],
   "source": [
    "# Create dictionary of different languages and their frequencies, using dictionary comprehension\n",
    "lang_dict = {l:col.find({\"lang\":l}).count() for l in langs}"
   ]
  },
  {
   "cell_type": "code",
   "execution_count": 38,
   "metadata": {
    "scrolled": true
   },
   "outputs": [
    {
     "data": {
      "text/plain": [
       "{'en': 84919,\n",
       " 'fr': 1235,\n",
       " 'es': 3027,\n",
       " 'tr': 588,\n",
       " 'nl': 212,\n",
       " 'pt': 632,\n",
       " 'und': 1653,\n",
       " 'it': 423,\n",
       " 'de': 635,\n",
       " 'da': 35,\n",
       " 'zh': 1,\n",
       " 'ru': 29,\n",
       " 'pl': 108,\n",
       " 'no': 21,\n",
       " 'eu': 6,\n",
       " 'tl': 48,\n",
       " 'in': 121,\n",
       " 'cs': 13,\n",
       " 'ht': 21,\n",
       " 'ro': 21,\n",
       " 'sl': 3,\n",
       " 'sv': 55,\n",
       " 'fi': 20,\n",
       " 'ar': 30,\n",
       " 'et': 23,\n",
       " 'lt': 8,\n",
       " 'hu': 6,\n",
       " 'el': 10,\n",
       " 'ja': 17,\n",
       " 'lv': 2,\n",
       " 'vi': 7,\n",
       " 'fa': 5,\n",
       " 'ko': 2,\n",
       " 'ur': 1,\n",
       " 'cy': 2,\n",
       " 'th': 3,\n",
       " 'is': 1,\n",
       " 'iw': 1,\n",
       " 'uk': 3}"
      ]
     },
     "execution_count": 38,
     "metadata": {},
     "output_type": "execute_result"
    }
   ],
   "source": [
    "# Display the language dictionary\n",
    "lang_dict"
   ]
  },
  {
   "cell_type": "markdown",
   "metadata": {},
   "source": [
    "The following code queries the Twitter collection from Problem 1 for the following information:\n",
    "- What are the usernames of the 5 most popular (defined as having the most followers) tweeters? Don’t include repeats.\n",
    "- Of the tweets containing at least 5 hashtags, sort the tweets by how early the 5th hashtag appears in the text. What is the earliest spot (character count) it appears?\n",
    "- What are the coordinates of the tweet that came from the northernmost location? "
   ]
  },
  {
   "cell_type": "code",
   "execution_count": 54,
   "metadata": {},
   "outputs": [
    {
     "data": {
      "text/plain": [
       "<pymongo.results.DeleteResult at 0x2a10992c488>"
      ]
     },
     "execution_count": 54,
     "metadata": {},
     "output_type": "execute_result"
    }
   ],
   "source": [
    "# Delete the Wall Street Journal from the collection to remove duplicates from the list of the 5 top most popular tweeters\n",
    "col.delete_one({\"user.name\":\"Wall Street Journal\"})"
   ]
  },
  {
   "cell_type": "code",
   "execution_count": 55,
   "metadata": {},
   "outputs": [
    {
     "data": {
      "text/plain": [
       "['CNN', 'Reuters Top News', 'Fox News', 'Wall Street Journal', 'TIME']"
      ]
     },
     "execution_count": 55,
     "metadata": {},
     "output_type": "execute_result"
    }
   ],
   "source": [
    "# Get the most popular tweeters\n",
    "popular = col.find().sort(\"user.followers_count\",-1)\n",
    "\n",
    "# Get the usernames of the 5 most popular tweeters\n",
    "people = []\n",
    "for pop in popular[:5]:\n",
    "    people.append(pop[\"user\"][\"name\"])\n",
    "\n",
    "# Print the list of usernames of 5 most popular tweeters\n",
    "people"
   ]
  },
  {
   "cell_type": "code",
   "execution_count": 79,
   "metadata": {},
   "outputs": [
    {
     "data": {
      "text/plain": [
       "[{'text': 'FOREX', 'indices': [0, 6]},\n",
       " {'text': 'Follow', 'indices': [7, 14]},\n",
       " {'text': 'FX', 'indices': [15, 18]},\n",
       " {'text': 'RT', 'indices': [19, 22]},\n",
       " {'text': 'News', 'indices': [23, 28]}]"
      ]
     },
     "execution_count": 79,
     "metadata": {},
     "output_type": "execute_result"
    }
   ],
   "source": [
    "# Find tags with at least 5 hashtags\n",
    "tags = col.find({\"entities.hashtags.4\":{\"$exists\":True}})\n",
    "\n",
    "# Sort the tags with at least 5 hashtags by how early the 5th hashtag appears in the tweet\n",
    "sorted_tags = col.find({\"entities.hashtags.4\":{\"$exists\":True}}).sort('entities.hashtags.4.indices.0')\n",
    "first = sorted_tags[0]\n",
    "num = first[\"entities\"][\"hashtags\"][4][\"indices\"][0]\n",
    "\n",
    "# Display the hashtags for the hashtag with the earliest 5th hashtag\n",
    "sorted_tags[0][\"entities\"][\"hashtags\"]"
   ]
  },
  {
   "cell_type": "markdown",
   "metadata": {},
   "source": [
    "From the above output, we can see that the earliest position of a hashtag appearing the 5th hashtag of a tweet is 23."
   ]
  },
  {
   "cell_type": "code",
   "execution_count": 84,
   "metadata": {},
   "outputs": [
    {
     "name": "stdout",
     "output_type": "stream",
     "text": [
      "Coordinates of northenmost tweet:  [28.03908658, -26.14493987]\n"
     ]
    }
   ],
   "source": [
    "coords = col.find({\"coordinates.coordinates\":{\"$exists\":True}}).sort(\"coordinates.coordinates.1\")\n",
    "print(\"Coordinates of northenmost tweet: \",coords[0][\"coordinates\"][\"coordinates\"])"
   ]
  },
  {
   "cell_type": "markdown",
   "metadata": {},
   "source": [
    "We now clean the Twitter collection in the following ways:\n",
    "\n",
    "- Get rid of the `\"retweeted_status\"` field in each tweet.\n",
    "- Update every tweet from someone with at least 1000 followers to include a popular field whose value is True. Report the number of popular tweets."
   ]
  },
  {
   "cell_type": "code",
   "execution_count": 87,
   "metadata": {},
   "outputs": [
    {
     "data": {
      "text/plain": [
       "<pymongo.results.UpdateResult at 0x2a12abbfa88>"
      ]
     },
     "execution_count": 87,
     "metadata": {},
     "output_type": "execute_result"
    }
   ],
   "source": [
    "# Get rid of the retweeted status field in each tweet\n",
    "col.update_many({\"retweeted_status\":{\"$exists\":True}},{\"$unset\":{\"retweeted_status\":''}})"
   ]
  },
  {
   "cell_type": "code",
   "execution_count": 89,
   "metadata": {},
   "outputs": [
    {
     "name": "stderr",
     "output_type": "stream",
     "text": [
      "C:\\Users\\jbohm\\AppData\\Local\\Continuum\\anaconda3\\lib\\site-packages\\ipykernel_launcher.py:1: DeprecationWarning: count is deprecated. Use Collection.count_documents instead.\n",
      "  \"\"\"Entry point for launching an IPython kernel.\n"
     ]
    },
    {
     "data": {
      "text/plain": [
       "0"
      ]
     },
     "execution_count": 89,
     "metadata": {},
     "output_type": "execute_result"
    }
   ],
   "source": [
    "# Check that the retweeted field no longer exists\n",
    "col.find({\"retweeted_status\":{\"$exists\":True}}).count()"
   ]
  },
  {
   "cell_type": "code",
   "execution_count": 94,
   "metadata": {},
   "outputs": [
    {
     "name": "stderr",
     "output_type": "stream",
     "text": [
      "C:\\Users\\jbohm\\AppData\\Local\\Continuum\\anaconda3\\lib\\site-packages\\ipykernel_launcher.py:2: DeprecationWarning: count is deprecated. Use Collection.count_documents instead.\n",
      "  \n"
     ]
    },
    {
     "data": {
      "text/plain": [
       "32487"
      ]
     },
     "execution_count": 94,
     "metadata": {},
     "output_type": "execute_result"
    }
   ],
   "source": [
    "# Create new field to include popularity of a tweeter for their tweets\n",
    "col.update_many({\"user.followers_count\":{\"$gte\":1000}},{\"$set\":{\"popular\":True}})\n",
    "col.find({\"popular\":True}).count()"
   ]
  },
  {
   "cell_type": "markdown",
   "metadata": {},
   "source": [
    "This implies there are actually 32489 tweets, because two tweets by Wall Street Journal that were within the top ten most popular tweets were deleted earlier in order to prevent repeats."
   ]
  },
  {
   "cell_type": "code",
   "execution_count": null,
   "metadata": {},
   "outputs": [],
   "source": []
  }
 ],
 "metadata": {
  "kernelspec": {
   "display_name": "Python 3",
   "language": "python",
   "name": "python3"
  },
  "language_info": {
   "codemirror_mode": {
    "name": "ipython",
    "version": 3
   },
   "file_extension": ".py",
   "mimetype": "text/x-python",
   "name": "python",
   "nbconvert_exporter": "python",
   "pygments_lexer": "ipython3",
   "version": "3.6.5"
  }
 },
 "nbformat": 4,
 "nbformat_minor": 2
}
